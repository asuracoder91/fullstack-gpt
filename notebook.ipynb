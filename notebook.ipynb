{
 "cells": [
  {
   "cell_type": "code",
   "execution_count": null,
   "metadata": {},
   "outputs": [],
   "source": [
    "from langchain.chat_models import ChatOpenAI\n",
    "from langchain.callbacks import StreamingStdOutCallbackHandler\n",
    "from langchain.prompts import ChatPromptTemplate\n",
    "\n",
    "\n",
    "model = ChatOpenAI(\n",
    "    model=\"gpt-4o\",\n",
    "    temperature=0.1,\n",
    "    streaming=True,\n",
    "    callbacks=[StreamingStdOutCallbackHandler()],\n",
    ")\n",
    "\n",
    "write_poem_prompt = ChatPromptTemplate.from_template( \n",
    "        (\"Write a poem about a programming language {programming_language}, with humor and sarcasm or remarkable insight. Write at least 4 lines and at most 4 paragraphs.\"),\n",
    ")\n",
    "\n",
    "analyze_poem_prompt = ChatPromptTemplate.from_template(\n",
    "        (\"Read the following poem and analyze it:\\n\\n{poem}\")\n",
    ")\n"
   ]
  },
  {
   "cell_type": "code",
   "execution_count": null,
   "metadata": {},
   "outputs": [],
   "source": [
    "write_poem_chain = write_poem_prompt | model \n",
    "\n",
    "analyze_poem_chain = (\n",
    "    {\"poem\": write_poem_chain} \n",
    "    | analyze_poem_prompt\n",
    "    | model)\n",
    "\n",
    "analyze_poem_chain.invoke({\"programming_language\":\"Python\"})\n"
   ]
  }
 ],
 "metadata": {
  "kernelspec": {
   "display_name": "env",
   "language": "python",
   "name": "python3"
  },
  "language_info": {
   "codemirror_mode": {
    "name": "ipython",
    "version": 3
   },
   "file_extension": ".py",
   "mimetype": "text/x-python",
   "name": "python",
   "nbconvert_exporter": "python",
   "pygments_lexer": "ipython3",
   "version": "3.11.6"
  }
 },
 "nbformat": 4,
 "nbformat_minor": 2
}
