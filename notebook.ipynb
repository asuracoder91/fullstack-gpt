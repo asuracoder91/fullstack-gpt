{
 "cells": [
  {
   "cell_type": "code",
   "execution_count": 1,
   "metadata": {},
   "outputs": [],
   "source": [
    "from langchain.chat_models import ChatOpenAI\n",
    "from langchain.callbacks import StreamingStdOutCallbackHandler\n",
    "from langchain.prompts import ChatPromptTemplate\n",
    "from langchain.schema import StrOutputParser\n",
    "\n",
    "model = ChatOpenAI(\n",
    "    model=\"gpt-3.5-turbo\",\n",
    "    temperature=0.1,\n",
    "    streaming=True,\n",
    "    callbacks=[StreamingStdOutCallbackHandler()],\n",
    ")\n",
    "\n",
    "write_poem_prompt = ChatPromptTemplate.from_template( \n",
    "        (\"Write a poem about a programming language {programming_language}, with humor and sarcasm or remarkable insight. Write at least 4 lines and at most 4 paragraphs.\"),\n",
    ")\n",
    "\n",
    "analyze_poem_prompt = ChatPromptTemplate.from_template(\n",
    "        (\"Read the following poem and analyze it:\\n\\n{poem}\")\n",
    ")\n",
    "\n",
    "output_parser = StrOutputParser()\n"
   ]
  },
  {
   "cell_type": "code",
   "execution_count": 2,
   "metadata": {},
   "outputs": [
    {
     "name": "stdout",
     "output_type": "stream",
     "text": [
      "In the land of code, where bugs do roam,\n",
      "Python reigns supreme, a coder's home.\n",
      "Indentation's king, no curly brace,\n",
      "Whitespace rules, in this serene space.\n",
      "\n",
      "\"Print\" they said, \"Hello, World!\"\n",
      "With syntax so simple, it unfurled.\n",
      "No semicolons to haunt your dreams,\n",
      "Just colons and tabs, or so it seems.\n",
      "\n",
      "Yet beware the GIL, that sneaky foe,\n",
      "Concurrency's bane, as coders know.\n",
      "\"Threading's a breeze!\" they often boast,\n",
      "Until performance becomes a ghost.\n",
      "\n",
      "But oh, the libraries, vast and grand,\n",
      "From NumPy to Django, at your command.\n",
      "So here's to Python, both friend and jest,\n",
      "In the realm of code, it's still the best.The poem \"In the land of code, where bugs do roam\" is a light-hearted and affectionate ode to the Python programming language. Let's break down its elements and themes:\n",
      "\n",
      "### Structure and Form\n",
      "- **Stanza Structure**: The poem consists of four quatrains (four-line stanzas).\n",
      "- **Rhyme Scheme**: The rhyme scheme is AABB, which gives the poem a rhythmic and flowing quality.\n",
      "- **Meter**: The poem does not adhere strictly to a particular meter, but it maintains a conversational and accessible tone.\n",
      "\n",
      "### Themes and Content\n",
      "1. **Python's Simplicity and Elegance**:\n",
      "   - The poem begins by establishing Python as a dominant and beloved language in the \"land of code.\"\n",
      "   - It highlights Python's use of indentation over curly braces, emphasizing the language's clean and readable syntax (\"Indentation's king, no curly brace, Whitespace rules, in this serene space\").\n",
      "\n",
      "2. **Ease of Use**:\n",
      "   - The second stanza celebrates Python's straightforward syntax, exemplified by the classic \"Hello, World!\" program.\n",
      "   - The absence of semicolons and the simplicity of using colons and tabs are praised, suggesting Python's user-friendly nature.\n",
      "\n",
      "3. **Challenges and Limitations**:\n",
      "   - The third stanza introduces a more nuanced view by acknowledging the Global Interpreter Lock (GIL), a well-known limitation in Python that affects concurrency and multi-threading performance.\n",
      "   - This stanza serves as a reminder that while Python is often praised for its ease of use, it has its own set of challenges (\"Concurrency's bane, as coders know\").\n",
      "\n",
      "4. **Rich Ecosystem**:\n",
      "   - The final stanza shifts back to a positive note, celebrating Python's extensive libraries and frameworks, such as NumPy and Django.\n",
      "   - The poem concludes with a toast to Python, acknowledging its strengths and quirks, and ultimately declaring it the best in the \"realm of code.\"\n",
      "\n",
      "### Literary Devices\n",
      "- **Personification**: The poem personifies Python and its elements, such as \"Indentation's king\" and \"Whitespace rules,\" giving the language a regal and authoritative character.\n",
      "- **Metaphor**: The GIL is described as a \"sneaky foe,\" and performance issues are likened to a \"ghost,\" using metaphor to convey the elusive and frustrating nature of these challenges.\n",
      "- **Alliteration**: Phrases like \"bugs do roam\" and \"vast and grand\" use alliteration to create a pleasing sound pattern.\n",
      "\n",
      "### Tone and Mood\n",
      "- **Tone**: The tone is playful and affectionate, with a mix of admiration and gentle critique.\n",
      "- **Mood**: The mood is light-hearted and celebratory, with a touch of humor.\n",
      "\n",
      "### Conclusion\n",
      "The poem effectively captures the essence of Python programming, balancing its praises with a realistic acknowledgment of its limitations. It celebrates Python's simplicity, readability, and rich ecosystem while also hinting at the challenges that come with concurrency. Overall, it portrays Python as a beloved and versatile tool in the coder's arsenal."
     ]
    },
    {
     "data": {
      "text/plain": [
       "'The poem \"In the land of code, where bugs do roam\" is a light-hearted and affectionate ode to the Python programming language. Let\\'s break down its elements and themes:\\n\\n### Structure and Form\\n- **Stanza Structure**: The poem consists of four quatrains (four-line stanzas).\\n- **Rhyme Scheme**: The rhyme scheme is AABB, which gives the poem a rhythmic and flowing quality.\\n- **Meter**: The poem does not adhere strictly to a particular meter, but it maintains a conversational and accessible tone.\\n\\n### Themes and Content\\n1. **Python\\'s Simplicity and Elegance**:\\n   - The poem begins by establishing Python as a dominant and beloved language in the \"land of code.\"\\n   - It highlights Python\\'s use of indentation over curly braces, emphasizing the language\\'s clean and readable syntax (\"Indentation\\'s king, no curly brace, Whitespace rules, in this serene space\").\\n\\n2. **Ease of Use**:\\n   - The second stanza celebrates Python\\'s straightforward syntax, exemplified by the classic \"Hello, World!\" program.\\n   - The absence of semicolons and the simplicity of using colons and tabs are praised, suggesting Python\\'s user-friendly nature.\\n\\n3. **Challenges and Limitations**:\\n   - The third stanza introduces a more nuanced view by acknowledging the Global Interpreter Lock (GIL), a well-known limitation in Python that affects concurrency and multi-threading performance.\\n   - This stanza serves as a reminder that while Python is often praised for its ease of use, it has its own set of challenges (\"Concurrency\\'s bane, as coders know\").\\n\\n4. **Rich Ecosystem**:\\n   - The final stanza shifts back to a positive note, celebrating Python\\'s extensive libraries and frameworks, such as NumPy and Django.\\n   - The poem concludes with a toast to Python, acknowledging its strengths and quirks, and ultimately declaring it the best in the \"realm of code.\"\\n\\n### Literary Devices\\n- **Personification**: The poem personifies Python and its elements, such as \"Indentation\\'s king\" and \"Whitespace rules,\" giving the language a regal and authoritative character.\\n- **Metaphor**: The GIL is described as a \"sneaky foe,\" and performance issues are likened to a \"ghost,\" using metaphor to convey the elusive and frustrating nature of these challenges.\\n- **Alliteration**: Phrases like \"bugs do roam\" and \"vast and grand\" use alliteration to create a pleasing sound pattern.\\n\\n### Tone and Mood\\n- **Tone**: The tone is playful and affectionate, with a mix of admiration and gentle critique.\\n- **Mood**: The mood is light-hearted and celebratory, with a touch of humor.\\n\\n### Conclusion\\nThe poem effectively captures the essence of Python programming, balancing its praises with a realistic acknowledgment of its limitations. It celebrates Python\\'s simplicity, readability, and rich ecosystem while also hinting at the challenges that come with concurrency. Overall, it portrays Python as a beloved and versatile tool in the coder\\'s arsenal.'"
      ]
     },
     "execution_count": 2,
     "metadata": {},
     "output_type": "execute_result"
    }
   ],
   "source": [
    "write_poem_chain = write_poem_prompt | model | output_parser\n",
    "\n",
    "analyze_poem_chain = (\n",
    "    {\"poem\": write_poem_chain} \n",
    "    | analyze_poem_prompt\n",
    "    | model\n",
    "    | output_parser\n",
    "    )\n",
    "\n",
    "analyze_poem_chain.invoke({\"programming_language\":\"Python\"})\n"
   ]
  }
 ],
 "metadata": {
  "kernelspec": {
   "display_name": "env",
   "language": "python",
   "name": "python3"
  },
  "language_info": {
   "codemirror_mode": {
    "name": "ipython",
    "version": 3
   },
   "file_extension": ".py",
   "mimetype": "text/x-python",
   "name": "python",
   "nbconvert_exporter": "python",
   "pygments_lexer": "ipython3",
   "version": "3.11.6"
  }
 },
 "nbformat": 4,
 "nbformat_minor": 2
}
