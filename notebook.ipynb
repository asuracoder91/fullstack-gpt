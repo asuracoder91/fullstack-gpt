{
 "cells": [
  {
   "cell_type": "code",
   "execution_count": null,
   "metadata": {},
   "outputs": [],
   "source": [
    "from langchain.chat_models import ChatOpenAI\n",
    "from langchain.callbacks import StreamingStdOutCallbackHandler\n",
    "from langchain.prompts import ChatPromptTemplate\n",
    "from langchain.chains import LLMChain\n",
    "\n",
    "chat = ChatOpenAI(\n",
    "    temperature=0.1,\n",
    "    streaming=True,\n",
    "    callbacks=[StreamingStdOutCallbackHandler()],\n",
    ")\n",
    "\n",
    "write_poem_prompt = ChatPromptTemplate.from_messages(\n",
    "    [\n",
    "        (\"human\", \"Write a poem about a programming language {programming_language}, with humor and sarcasm or remarkable insight. Write at least 4 lines and at most 8 lines.\"),\n",
    "    ]\n",
    ")\n",
    "\n",
    "analyze_poem_prompt = ChatPromptTemplate.from_messages(\n",
    "    [\n",
    "        (\"human\", \"Read the following poem and analyze it:\\n\\n{poem}\"),\n",
    "    ]\n",
    ")\n"
   ]
  },
  {
   "cell_type": "code",
   "execution_count": null,
   "metadata": {},
   "outputs": [],
   "source": [
    "write_poem_chain = LLMChain(\n",
    "    llm=chat,\n",
    "    prompt=write_poem_prompt\n",
    ")\n",
    "\n",
    "analyze_poem_chain = LLMChain(\n",
    "    llm=chat,\n",
    "    prompt=analyze_poem_prompt\n",
    ")\n",
    "\n",
    "def generate_and_analyze_poem(programming_language: str):\n",
    "    poem = write_poem_chain.run(programming_language=programming_language)\n",
    "    \n",
    "    analysis = analyze_poem_chain.run(poem=poem)\n",
    "    \n",
    "    return poem, analysis\n",
    "\n",
    "programming_language = \"Dart\"\n",
    "poem, analysis = generate_and_analyze_poem(programming_language)\n",
    "\n",
    "print(\"Generated Poem:\")\n",
    "print(poem)\n",
    "print(\"\\n==========================================================\\n\")\n",
    "print(\"Poem Analysis:\")\n",
    "print(analysis)"
   ]
  }
 ],
 "metadata": {
  "kernelspec": {
   "display_name": "env",
   "language": "python",
   "name": "python3"
  },
  "language_info": {
   "codemirror_mode": {
    "name": "ipython",
    "version": 3
   },
   "file_extension": ".py",
   "mimetype": "text/x-python",
   "name": "python",
   "nbconvert_exporter": "python",
   "pygments_lexer": "ipython3",
   "version": "3.11.6"
  }
 },
 "nbformat": 4,
 "nbformat_minor": 2
}
