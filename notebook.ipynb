{
 "cells": [
  {
   "cell_type": "code",
   "execution_count": 1,
   "metadata": {},
   "outputs": [],
   "source": [
    "from langchain.chat_models import ChatOpenAI\n",
    "from langchain.callbacks import StreamingStdOutCallbackHandler\n",
    "from langchain.prompts import ChatPromptTemplate\n",
    "from langchain.chains import LLMChain\n",
    "\n",
    "model = ChatOpenAI(\n",
    "    model=\"gpt-4o\",\n",
    "    temperature=0.1,\n",
    "    streaming=True,\n",
    "    callbacks=[StreamingStdOutCallbackHandler()],\n",
    ")\n",
    "\n",
    "write_poem_prompt = ChatPromptTemplate.from_template( \n",
    "        (\"Write a poem about a programming language {programming_language}, with humor and sarcasm or remarkable insight. Write at least 4 lines and at most 8 lines.\"),\n",
    ")\n",
    "\n",
    "analyze_poem_prompt = ChatPromptTemplate.from_template(\n",
    "        (\"Read the following poem and analyze it:\\n\\n{poem}\")\n",
    ")\n"
   ]
  },
  {
   "cell_type": "code",
   "execution_count": 2,
   "metadata": {},
   "outputs": [
    {
     "name": "stdout",
     "output_type": "stream",
     "text": [
      "In Python's realm, where whitespace reigns supreme,\n",
      "Indentation errors haunt my every dream.\n",
      "\"Simple syntax,\" they said, \"you'll code with ease!\"\n",
      "Yet here I am, debugging on my knees.Certainly! Let's analyze the poem:\n",
      "\n",
      "### Content and Theme\n",
      "The poem humorously explores the challenges of coding in Python, particularly focusing on the significance of whitespace and indentation. It captures the frustration and irony experienced by programmers who are promised simplicity but find themselves struggling with seemingly minor errors.\n",
      "\n",
      "### Structure and Form\n",
      "The poem consists of four lines, making it a quatrain. It follows an AABB rhyme scheme, where the first and second lines rhyme with each other, as do the third and fourth lines.\n",
      "\n",
      "### Line-by-Line Analysis\n",
      "\n",
      "1. **\"In Python's realm, where whitespace reigns supreme,\"**\n",
      "   - **Imagery and Personification:** The poem opens by personifying Python as a \"realm\" where \"whitespace reigns supreme.\" This sets the stage for the importance of whitespace in Python, which is crucial for defining code blocks.\n",
      "   - **Tone:** The tone is somewhat grandiose and whimsical, suggesting a kingdom or domain governed by strict rules.\n",
      "\n",
      "2. **\"Indentation errors haunt my every dream.\"**\n",
      "   - **Metaphor and Hyperbole:** Indentation errors are described as haunting dreams, which is an exaggeration (hyperbole) to emphasize the frustration and anxiety caused by these errors.\n",
      "   - **Mood:** The mood here is one of frustration and perhaps a bit of despair, as the errors are depicted as persistent and troubling.\n",
      "\n",
      "3. **'\"Simple syntax,\" they said, \"you'll code with ease!\"'**\n",
      "   - **Irony:** This line introduces irony. The promise of \"simple syntax\" contrasts sharply with the speaker's actual experience.\n",
      "   - **Quotation:** The use of quotation marks indicates that this is advice or a common saying, adding to the irony when juxtaposed with the speaker's struggles.\n",
      "\n",
      "4. **\"Yet here I am, debugging on my knees.\"**\n",
      "   - **Imagery and Hyperbole:** The image of the speaker \"on my knees\" conveys a sense of desperation and submission, further emphasizing the difficulty and frustration.\n",
      "   - **Contrast:** This line contrasts with the previous promise of ease, highlighting the gap between expectation and reality.\n",
      "\n",
      "### Overall Analysis\n",
      "The poem effectively uses humor and irony to convey the common struggles of Python programmers. The personification of Python as a realm and the hyperbolic depiction of indentation errors haunting dreams create a vivid and relatable picture for anyone familiar with coding. The contrast between the promise of simplicity and the reality of debugging underscores the challenges that come with even the most \"user-friendly\" programming languages.\n",
      "\n",
      "### Conclusion\n",
      "This short poem captures the essence of a common programmer's experience with Python, using literary devices like personification, hyperbole, and irony to highlight the emotional journey from expectation to reality. It resonates with anyone who has faced the seemingly minor but often frustrating challenges of coding."
     ]
    },
    {
     "data": {
      "text/plain": [
       "AIMessageChunk(content='Certainly! Let\\'s analyze the poem:\\n\\n### Content and Theme\\nThe poem humorously explores the challenges of coding in Python, particularly focusing on the significance of whitespace and indentation. It captures the frustration and irony experienced by programmers who are promised simplicity but find themselves struggling with seemingly minor errors.\\n\\n### Structure and Form\\nThe poem consists of four lines, making it a quatrain. It follows an AABB rhyme scheme, where the first and second lines rhyme with each other, as do the third and fourth lines.\\n\\n### Line-by-Line Analysis\\n\\n1. **\"In Python\\'s realm, where whitespace reigns supreme,\"**\\n   - **Imagery and Personification:** The poem opens by personifying Python as a \"realm\" where \"whitespace reigns supreme.\" This sets the stage for the importance of whitespace in Python, which is crucial for defining code blocks.\\n   - **Tone:** The tone is somewhat grandiose and whimsical, suggesting a kingdom or domain governed by strict rules.\\n\\n2. **\"Indentation errors haunt my every dream.\"**\\n   - **Metaphor and Hyperbole:** Indentation errors are described as haunting dreams, which is an exaggeration (hyperbole) to emphasize the frustration and anxiety caused by these errors.\\n   - **Mood:** The mood here is one of frustration and perhaps a bit of despair, as the errors are depicted as persistent and troubling.\\n\\n3. **\\'\"Simple syntax,\" they said, \"you\\'ll code with ease!\"\\'**\\n   - **Irony:** This line introduces irony. The promise of \"simple syntax\" contrasts sharply with the speaker\\'s actual experience.\\n   - **Quotation:** The use of quotation marks indicates that this is advice or a common saying, adding to the irony when juxtaposed with the speaker\\'s struggles.\\n\\n4. **\"Yet here I am, debugging on my knees.\"**\\n   - **Imagery and Hyperbole:** The image of the speaker \"on my knees\" conveys a sense of desperation and submission, further emphasizing the difficulty and frustration.\\n   - **Contrast:** This line contrasts with the previous promise of ease, highlighting the gap between expectation and reality.\\n\\n### Overall Analysis\\nThe poem effectively uses humor and irony to convey the common struggles of Python programmers. The personification of Python as a realm and the hyperbolic depiction of indentation errors haunting dreams create a vivid and relatable picture for anyone familiar with coding. The contrast between the promise of simplicity and the reality of debugging underscores the challenges that come with even the most \"user-friendly\" programming languages.\\n\\n### Conclusion\\nThis short poem captures the essence of a common programmer\\'s experience with Python, using literary devices like personification, hyperbole, and irony to highlight the emotional journey from expectation to reality. It resonates with anyone who has faced the seemingly minor but often frustrating challenges of coding.')"
      ]
     },
     "execution_count": 2,
     "metadata": {},
     "output_type": "execute_result"
    }
   ],
   "source": [
    "write_poem_chain = write_poem_prompt | model \n",
    "\n",
    "analyze_poem_chain = (\n",
    "    {\"poem\": write_poem_chain} \n",
    "    | analyze_poem_prompt\n",
    "    | model)\n",
    "\n",
    "analyze_poem_chain.invoke({\"programming_language\":\"Python\"})\n"
   ]
  }
 ],
 "metadata": {
  "kernelspec": {
   "display_name": "env",
   "language": "python",
   "name": "python3"
  },
  "language_info": {
   "codemirror_mode": {
    "name": "ipython",
    "version": 3
   },
   "file_extension": ".py",
   "mimetype": "text/x-python",
   "name": "python",
   "nbconvert_exporter": "python",
   "pygments_lexer": "ipython3",
   "version": "3.11.6"
  }
 },
 "nbformat": 4,
 "nbformat_minor": 2
}
